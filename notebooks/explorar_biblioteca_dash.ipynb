{
 "cells": [
  {
   "cell_type": "markdown",
   "metadata": {},
   "source": [
    "# Getting Start\n",
    "\n",
    "Dash apps are composed of two parts. The first part is the **\"layout\"**, which describes what the app looks like. The second part describes the **interactivity** of the app and will be covered in the next chapter."
   ]
  },
  {
   "cell_type": "code",
   "execution_count": 3,
   "metadata": {},
   "outputs": [],
   "source": [
    "from dash import Dash, html, dcc\n",
    "import pandas as pd\n",
    "import plotly.express as px\n",
    "import dash_bootstrap_components as dbc"
   ]
  },
  {
   "cell_type": "code",
   "execution_count": 4,
   "metadata": {},
   "outputs": [
    {
     "name": "stdout",
     "output_type": "stream",
     "text": [
      "<class 'pandas.core.frame.DataFrame'>\n",
      "RangeIndex: 714 entries, 0 to 713\n",
      "Data columns (total 6 columns):\n",
      " #   Column       Non-Null Count  Dtype \n",
      "---  ------       --------------  ----- \n",
      " 0   DC_NOME      714 non-null    object\n",
      " 1   CD_SITUACAO  714 non-null    object\n",
      " 2   TP_ESTACAO   714 non-null    object\n",
      " 3   CD_DISTRITO  714 non-null    int64 \n",
      " 4   SG_ESTADO    714 non-null    object\n",
      " 5   CD_ESTACAO   714 non-null    object\n",
      "dtypes: int64(1), object(5)\n",
      "memory usage: 33.6+ KB\n"
     ]
    }
   ],
   "source": [
    "# cria um dataframe baseado no arquivo csv\n",
    "df = pd.read_csv('../data_raw/estacoes_auto_manual.csv')\n",
    "df = df[['DC_NOME', 'CD_SITUACAO', 'TP_ESTACAO', 'CD_DISTRITO', 'SG_ESTADO', 'CD_ESTACAO']]\n",
    "df.info()\n"
   ]
  },
  {
   "cell_type": "code",
   "execution_count": 5,
   "metadata": {},
   "outputs": [
    {
     "data": {
      "text/plain": [
       "<bound method Series.to_frame of CD_DISTRITO\n",
       "8     107\n",
       "3     104\n",
       "5      88\n",
       "2      77\n",
       "7      73\n",
       "10     67\n",
       "4      64\n",
       "6      48\n",
       "9      48\n",
       "1      38\n",
       "Name: count, dtype: int64>"
      ]
     },
     "execution_count": 5,
     "metadata": {},
     "output_type": "execute_result"
    }
   ],
   "source": [
    "qtd_dist = df['CD_DISTRITO'].value_counts().to_frame\n",
    "qtd_dist"
   ]
  },
  {
   "cell_type": "code",
   "execution_count": 6,
   "metadata": {},
   "outputs": [],
   "source": [
    "# cria um objeto do tipo Dash\n",
    "app = Dash(__name__, external_stylesheets=[dbc.themes.BOOTSTRAP])"
   ]
  },
  {
   "cell_type": "code",
   "execution_count": 7,
   "metadata": {},
   "outputs": [],
   "source": [
    "\n",
    "nav = dbc.Nav(\n",
    "    [\n",
    "        dbc.NavItem(dbc.NavLink(\"Active\", active=True, href=\"#\")),\n",
    "        dbc.NavItem(dbc.NavLink(\"A link\", href=\"#\")),\n",
    "        dbc.NavItem(dbc.NavLink(\"Another link\", href=\"#\")),\n",
    "        dbc.NavItem(dbc.NavLink(\"Disabled\", disabled=True, href=\"#\")),\n",
    "        dbc.DropdownMenu(\n",
    "            [dbc.DropdownMenuItem(\"Item 1\"), dbc.DropdownMenuItem(\"Item 2\")],\n",
    "            label=\"Dropdown\",\n",
    "            nav=True,\n",
    "        ),\n",
    "    ]\n",
    ")"
   ]
  },
  {
   "cell_type": "code",
   "execution_count": 8,
   "metadata": {},
   "outputs": [],
   "source": [
    "fig = px.bar(df, x='SG_ESTADO',\n",
    "             y='CD_DISTRITO',\n",
    "             color='CD_DISTRITO',\n",
    "             barmode=\"group\")\n",
    "\n",
    "app.layout = html.Div([\n",
    "    html.Div(\n",
    "        dbc.Nav(\n",
    "            [\n",
    "                dbc.NavItem(dbc.NavLink(\"Active\", active=True, href=\"#\")),\n",
    "                dbc.NavItem(dbc.NavLink(\"A link\", href=\"#\")),\n",
    "                dbc.NavItem(dbc.NavLink(\"Another link\", href=\"#\")),\n",
    "                dbc.NavItem(dbc.NavLink(\"Disabled\", disabled=True, href=\"#\")),\n",
    "                dbc.DropdownMenu(\n",
    "                    [dbc.DropdownMenuItem(\"Item 1\"), dbc.DropdownMenuItem(\"Item 2\")],\n",
    "                    label=\"Dropdown\",\n",
    "                    nav=True,\n",
    "                ),\n",
    "            ]\n",
    "        )\n",
    "    ),\n",
    "    html.H1('Hello Dash'),\n",
    "    html.Div('''\n",
    "        Dash: A web application framework for your data\n",
    "    '''),\n",
    "    dcc.Graph(\n",
    "        id='example-gaph',\n",
    "        figure=fig\n",
    "    )\n",
    "])"
   ]
  },
  {
   "cell_type": "code",
   "execution_count": 9,
   "metadata": {},
   "outputs": [
    {
     "data": {
      "text/html": [
       "\n",
       "        <iframe\n",
       "            width=\"100%\"\n",
       "            height=\"650\"\n",
       "            src=\"http://127.0.0.1:8050/\"\n",
       "            frameborder=\"0\"\n",
       "            allowfullscreen\n",
       "            \n",
       "        ></iframe>\n",
       "        "
      ],
      "text/plain": [
       "<IPython.lib.display.IFrame at 0x7f088907b460>"
      ]
     },
     "metadata": {},
     "output_type": "display_data"
    }
   ],
   "source": [
    "app.run(debug=True)"
   ]
  },
  {
   "cell_type": "code",
   "execution_count": 10,
   "metadata": {},
   "outputs": [
    {
     "data": {
      "text/html": [
       "\n",
       "        <iframe\n",
       "            width=\"100%\"\n",
       "            height=\"650\"\n",
       "            src=\"http://127.0.0.1:8050/\"\n",
       "            frameborder=\"0\"\n",
       "            allowfullscreen\n",
       "            \n",
       "        ></iframe>\n",
       "        "
      ],
      "text/plain": [
       "<IPython.lib.display.IFrame at 0x7f0886e29fd0>"
      ]
     },
     "metadata": {},
     "output_type": "display_data"
    }
   ],
   "source": [
    "import dash\n",
    "import dash_html_components as html\n",
    "import dash_bootstrap_components as dbc\n",
    "\n",
    "app = dash.Dash(__name__, external_stylesheets=[dbc.themes.BOOTSTRAP])\n",
    "\n",
    "# Layout responsivo com duas colunas\n",
    "app.layout = dbc.Container(\n",
    "    [\n",
    "        dbc.Row(\n",
    "            [\n",
    "                #navbar\n",
    "            ]\n",
    "        ),\n",
    "        dbc.Row(\n",
    "            [\n",
    "                dbc.Col([ #Col 1\n",
    "                dbc.Card([ # Card grandezas e variáveis\n",
    "                    dbc.CardHeader(\"Selecione a estação\"),\n",
    "                    html.Div(children=[\n",
    "                        html.Form([\n",
    "                                html.Fieldset([\n",
    "\n",
    "                                    html.Div(className=\"form-group\", children=[\n",
    "                                        html.Label(\"Estado\", className=\"form-label mt-4\"),\n",
    "                                        dcc.Dropdown(\n",
    "                                            options=[{\"label\": estado, \"value\": estado} for estado in range(1)],\n",
    "                                            id=\"estado-dropdown\", value=None\n",
    "                                        ),\n",
    "\n",
    "                                    ]),\n",
    "\n",
    "                                    html.Div(className=\"form-group\", children=[\n",
    "                                        html.Label(\"Estação\", className=\"form-label mt-4\"),\n",
    "                                        dcc.Dropdown(\n",
    "                                            options=[{\"label\": 'estacao', \"value\": 'estacao'}],\n",
    "                                            id=\"estacao-dropdown\",\n",
    "                                        )\n",
    "                                    ]),\n",
    "\n",
    "                                    html.Div([html.P('')]), # Pula uma linha\n",
    "\n",
    "                                    html.Div([\n",
    "                                        dcc.RadioItems(\n",
    "                                            ['Mês', 'Dia', 'Periodo'], 'Dia',\n",
    "                                            id='radio-input-date',\n",
    "                                            inline=True,\n",
    "                                        ),\n",
    "                                        html.P(''), # Pula uma linha\n",
    "                                        dcc.Store(id='period-store',data=None),\n",
    "                                        dcc.Store(id='day-store',data=None),\n",
    "                                        dcc.Store(id='month-store',data=None),                                       \n",
    "                                        dcc.Loading([html.Div(id='loading-demo')])\n",
    "                                    ]),\n",
    "\n",
    "                                    html.P(''),\n",
    "                                    dbc.Button(\"Limpar\", id=\"reset-button\", color=\"primary\", className=\"ms-2\", n_clicks=0)\n",
    "\n",
    "                            ]),\n",
    "                        ], id=\"form_main\"),\n",
    "                    ])\n",
    "                ]),\n",
    "\n",
    "        ],sm=2),\n",
    "            ],\n",
    "            className=\"mb-1\",\n",
    "        ),\n",
    "    ],\n",
    "    fluid=True,  # O fluid=True faz com que o contêiner se ajuste à largura total da tela\n",
    ")\n",
    "\n",
    "if __name__ == \"__main__\":\n",
    "    app.run_server(debug=True)\n"
   ]
  },
  {
   "cell_type": "code",
   "execution_count": null,
   "metadata": {},
   "outputs": [],
   "source": []
  }
 ],
 "metadata": {
  "kernelspec": {
   "display_name": "venv",
   "language": "python",
   "name": "python3"
  },
  "language_info": {
   "codemirror_mode": {
    "name": "ipython",
    "version": 3
   },
   "file_extension": ".py",
   "mimetype": "text/x-python",
   "name": "python",
   "nbconvert_exporter": "python",
   "pygments_lexer": "ipython3",
   "version": "3.8.10"
  }
 },
 "nbformat": 4,
 "nbformat_minor": 2
}
