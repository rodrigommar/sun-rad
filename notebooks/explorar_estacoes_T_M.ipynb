{
 "cells": [
  {
   "cell_type": "markdown",
   "metadata": {},
   "source": [
    "# Modo de Uso API\n",
    "\n",
    "\"As chamadas são resgatadas por método **GET**, siga os exemplos a seguir para a usabilidade de cada uma\"<br>  \n",
    "Recuperar todas estações de acordo com o tipo passado como parâmetro:<br>\n",
    "**Estações Automáticas**:** https://apitempo.inmet.gov.br/estacoes/T<br>\n",
    "**Estações Manuais:** https://apitempo.inmet.gov.br/estacoes/M<br>\n",
    "\n"
   ]
  },
  {
   "cell_type": "code",
   "execution_count": 6,
   "metadata": {},
   "outputs": [],
   "source": [
    "# importar bibliotecas\n",
    "from dotenv import load_dotenv\n",
    "import requests\n",
    "import pandas as pd\n",
    "import csv"
   ]
  },
  {
   "cell_type": "code",
   "execution_count": 7,
   "metadata": {},
   "outputs": [],
   "source": [
    "token = load_dotenv('TOKEN')\n",
    "URL_T = 'https://apitempo.inmet.gov.br/estacoes/T'\n",
    "\n",
    "reponse = requests.get(URL_T)\n",
    "\n",
    "if reponse.status_code == 200:\n",
    "    estacoes_automaticas = reponse.json()\n"
   ]
  },
  {
   "cell_type": "markdown",
   "metadata": {},
   "source": [
    "# Descrição das colunas\n",
    "\n",
    "**CD_OSCAR** : 'Código internacionalmente reconhecido para a estação meteorológica'  \n",
    "**DC_NOME** : 'Nome da estação meteorológica'  \n",
    "**FL_CAPITAL** : 'Indicação se a estação é a capital do estado (\"S\" para sim, \"N\" para não)'  \n",
    "**DT_FIM_OPERACAO** : 'Data de encerramento das operações da estação (pode ser nulo se ainda estiver em operação)'  \n",
    "**CD_SITUACAO** : 'Situação atual da estação meteorológica (por exemplo, \"Pane\")'  \n",
    "**TP_ESTACAO** : 'Tipo da estação meteorológica (por exemplo, \"Automática\")'  \n",
    "**VL_LATITUDE** : 'Valor da latitude geográfica da estação'  \n",
    "**CD_WSI** : 'Código único atribuído pela WSI (Weather Services International)'  \n",
    "**CD_DISTRITO** : 'Código do distrito ao qual a estação pertence'  \n",
    "**VL_ALTITUDE** : 'Altitude da estação meteorológica'  \n",
    "**SG_ESTADO** : 'Sigla do estado onde a estação está localizada'  \n",
    "**SG_ENTIDADE** : 'Sigla da entidade responsável pela estação meteorológica (por exemplo, \"INMET\")'  \n",
    "**CD_ESTACAO** : 'Código único atribuído à estação'  \n",
    "**VL_LONGITUDE** : 'Valor da longitude geográfica da estação'  \n",
    "**DT_INICIO_OPERACAO** : 'Data de início das operações da estação meteorológica'  \n"
   ]
  },
  {
   "cell_type": "code",
   "execution_count": 8,
   "metadata": {},
   "outputs": [
    {
     "data": {
      "text/plain": [
       "{'CD_OSCAR': '0-2000-0-86765',\n",
       " 'DC_NOME': 'ABROLHOS',\n",
       " 'FL_CAPITAL': 'N',\n",
       " 'DT_FIM_OPERACAO': None,\n",
       " 'CD_SITUACAO': 'Pane',\n",
       " 'TP_ESTACAO': 'Automatica',\n",
       " 'VL_LATITUDE': '-17.96305555',\n",
       " 'CD_WSI': '0-76-0-2906907000000408',\n",
       " 'CD_DISTRITO': ' 04',\n",
       " 'VL_ALTITUDE': '20.93',\n",
       " 'SG_ESTADO': 'BA',\n",
       " 'SG_ENTIDADE': 'INMET',\n",
       " 'CD_ESTACAO': 'A422',\n",
       " 'VL_LONGITUDE': '-38.70333333',\n",
       " 'DT_INICIO_OPERACAO': '2008-07-20T21:00:00.000-03:00'}"
      ]
     },
     "execution_count": 8,
     "metadata": {},
     "output_type": "execute_result"
    }
   ],
   "source": [
    "# dados do endpoint T (automatico)\n",
    "estacoes_automaticas[0]"
   ]
  },
  {
   "cell_type": "code",
   "execution_count": 9,
   "metadata": {},
   "outputs": [
    {
     "data": {
      "text/plain": [
       "list"
      ]
     },
     "execution_count": 9,
     "metadata": {},
     "output_type": "execute_result"
    }
   ],
   "source": [
    "\n",
    "type(estacoes_automaticas)"
   ]
  },
  {
   "cell_type": "code",
   "execution_count": 10,
   "metadata": {},
   "outputs": [
    {
     "data": {
      "text/html": [
       "<div>\n",
       "<style scoped>\n",
       "    .dataframe tbody tr th:only-of-type {\n",
       "        vertical-align: middle;\n",
       "    }\n",
       "\n",
       "    .dataframe tbody tr th {\n",
       "        vertical-align: top;\n",
       "    }\n",
       "\n",
       "    .dataframe thead th {\n",
       "        text-align: right;\n",
       "    }\n",
       "</style>\n",
       "<table border=\"1\" class=\"dataframe\">\n",
       "  <thead>\n",
       "    <tr style=\"text-align: right;\">\n",
       "      <th></th>\n",
       "      <th>CD_OSCAR</th>\n",
       "      <th>DC_NOME</th>\n",
       "      <th>FL_CAPITAL</th>\n",
       "      <th>DT_FIM_OPERACAO</th>\n",
       "      <th>CD_SITUACAO</th>\n",
       "      <th>TP_ESTACAO</th>\n",
       "      <th>VL_LATITUDE</th>\n",
       "      <th>CD_WSI</th>\n",
       "      <th>CD_DISTRITO</th>\n",
       "      <th>VL_ALTITUDE</th>\n",
       "      <th>SG_ESTADO</th>\n",
       "      <th>SG_ENTIDADE</th>\n",
       "      <th>CD_ESTACAO</th>\n",
       "      <th>VL_LONGITUDE</th>\n",
       "      <th>DT_INICIO_OPERACAO</th>\n",
       "    </tr>\n",
       "  </thead>\n",
       "  <tbody>\n",
       "    <tr>\n",
       "      <th>0</th>\n",
       "      <td>0-2000-0-86765</td>\n",
       "      <td>ABROLHOS</td>\n",
       "      <td>N</td>\n",
       "      <td>None</td>\n",
       "      <td>Pane</td>\n",
       "      <td>Automatica</td>\n",
       "      <td>-17.96305555</td>\n",
       "      <td>0-76-0-2906907000000408</td>\n",
       "      <td>04</td>\n",
       "      <td>20.93</td>\n",
       "      <td>BA</td>\n",
       "      <td>INMET</td>\n",
       "      <td>A422</td>\n",
       "      <td>-38.70333333</td>\n",
       "      <td>2008-07-20T21:00:00.000-03:00</td>\n",
       "    </tr>\n",
       "    <tr>\n",
       "      <th>1</th>\n",
       "      <td>0-2000-0-81755</td>\n",
       "      <td>ACARAU</td>\n",
       "      <td>N</td>\n",
       "      <td>None</td>\n",
       "      <td>Operante</td>\n",
       "      <td>Automatica</td>\n",
       "      <td>-3.1211111</td>\n",
       "      <td>0-76-0-2300200000000446</td>\n",
       "      <td>03</td>\n",
       "      <td>67.15</td>\n",
       "      <td>CE</td>\n",
       "      <td>INMET</td>\n",
       "      <td>A360</td>\n",
       "      <td>-40.08722221</td>\n",
       "      <td>2009-04-21T21:00:00.000-03:00</td>\n",
       "    </tr>\n",
       "    <tr>\n",
       "      <th>2</th>\n",
       "      <td>0-2000-0-86827</td>\n",
       "      <td>AFONSO CLAUDIO</td>\n",
       "      <td>None</td>\n",
       "      <td>None</td>\n",
       "      <td>Pane</td>\n",
       "      <td>Automatica</td>\n",
       "      <td>-20.10416666</td>\n",
       "      <td>0-76-0-3200102000000478</td>\n",
       "      <td>06</td>\n",
       "      <td>507.48</td>\n",
       "      <td>ES</td>\n",
       "      <td>INMET</td>\n",
       "      <td>A657</td>\n",
       "      <td>-41.10694444</td>\n",
       "      <td>2011-09-23T21:00:00.000-03:00</td>\n",
       "    </tr>\n",
       "    <tr>\n",
       "      <th>3</th>\n",
       "      <td>0-2000-0-86686</td>\n",
       "      <td>AGUA BOA</td>\n",
       "      <td>N</td>\n",
       "      <td>None</td>\n",
       "      <td>Operante</td>\n",
       "      <td>Automatica</td>\n",
       "      <td>-14.01638888</td>\n",
       "      <td>0-76-0-5100201000000157</td>\n",
       "      <td>09</td>\n",
       "      <td>440</td>\n",
       "      <td>MT</td>\n",
       "      <td>INMET</td>\n",
       "      <td>A908</td>\n",
       "      <td>-52.21166666</td>\n",
       "      <td>2006-12-15T21:00:00.000-03:00</td>\n",
       "    </tr>\n",
       "    <tr>\n",
       "      <th>4</th>\n",
       "      <td>0-2000-0-86812</td>\n",
       "      <td>AGUA CLARA</td>\n",
       "      <td>N</td>\n",
       "      <td>None</td>\n",
       "      <td>Operante</td>\n",
       "      <td>Automatica</td>\n",
       "      <td>-20.44444444</td>\n",
       "      <td>0-76-0-5000203000000463</td>\n",
       "      <td>07</td>\n",
       "      <td>323.63</td>\n",
       "      <td>MS</td>\n",
       "      <td>INMET</td>\n",
       "      <td>A756</td>\n",
       "      <td>-52.87583332</td>\n",
       "      <td>2010-08-13T21:00:00.000-03:00</td>\n",
       "    </tr>\n",
       "  </tbody>\n",
       "</table>\n",
       "</div>"
      ],
      "text/plain": [
       "         CD_OSCAR         DC_NOME FL_CAPITAL DT_FIM_OPERACAO CD_SITUACAO  \\\n",
       "0  0-2000-0-86765        ABROLHOS          N            None        Pane   \n",
       "1  0-2000-0-81755          ACARAU          N            None    Operante   \n",
       "2  0-2000-0-86827  AFONSO CLAUDIO       None            None        Pane   \n",
       "3  0-2000-0-86686        AGUA BOA          N            None    Operante   \n",
       "4  0-2000-0-86812      AGUA CLARA          N            None    Operante   \n",
       "\n",
       "   TP_ESTACAO   VL_LATITUDE                   CD_WSI CD_DISTRITO VL_ALTITUDE  \\\n",
       "0  Automatica  -17.96305555  0-76-0-2906907000000408          04       20.93   \n",
       "1  Automatica    -3.1211111  0-76-0-2300200000000446          03       67.15   \n",
       "2  Automatica  -20.10416666  0-76-0-3200102000000478          06      507.48   \n",
       "3  Automatica  -14.01638888  0-76-0-5100201000000157          09         440   \n",
       "4  Automatica  -20.44444444  0-76-0-5000203000000463          07      323.63   \n",
       "\n",
       "  SG_ESTADO SG_ENTIDADE CD_ESTACAO  VL_LONGITUDE  \\\n",
       "0        BA       INMET       A422  -38.70333333   \n",
       "1        CE       INMET       A360  -40.08722221   \n",
       "2        ES       INMET       A657  -41.10694444   \n",
       "3        MT       INMET       A908  -52.21166666   \n",
       "4        MS       INMET       A756  -52.87583332   \n",
       "\n",
       "              DT_INICIO_OPERACAO  \n",
       "0  2008-07-20T21:00:00.000-03:00  \n",
       "1  2009-04-21T21:00:00.000-03:00  \n",
       "2  2011-09-23T21:00:00.000-03:00  \n",
       "3  2006-12-15T21:00:00.000-03:00  \n",
       "4  2010-08-13T21:00:00.000-03:00  "
      ]
     },
     "execution_count": 10,
     "metadata": {},
     "output_type": "execute_result"
    }
   ],
   "source": [
    "# salvar um arquivo csv com os dados das estações automaticas\n",
    "\n",
    "df_estacoes_automaticas = pd.DataFrame(estacoes_automaticas)\n",
    "df_estacoes_automaticas.head()"
   ]
  },
  {
   "cell_type": "code",
   "execution_count": 11,
   "metadata": {},
   "outputs": [],
   "source": [
    "df_estacoes_automaticas.to_csv('../data_raw/estacoes_automaticas.csv')"
   ]
  },
  {
   "cell_type": "code",
   "execution_count": 18,
   "metadata": {},
   "outputs": [
    {
     "data": {
      "text/plain": [
       "75     A001\n",
       "208    A002\n",
       "329    A003\n",
       "396    A005\n",
       "355    A009\n",
       "       ... \n",
       "99     B803\n",
       "285    B804\n",
       "142    B806\n",
       "398    B807\n",
       "65     F501\n",
       "Name: CD_ESTACAO, Length: 567, dtype: object"
      ]
     },
     "execution_count": 18,
     "metadata": {},
     "output_type": "execute_result"
    }
   ],
   "source": []
  },
  {
   "cell_type": "markdown",
   "metadata": {},
   "source": [
    "# Dados do endpoint M (Manual)\n",
    "**Estações Manuais:** https://apitempo.inmet.gov.br/estacoes/M<br>"
   ]
  },
  {
   "cell_type": "code",
   "execution_count": 13,
   "metadata": {},
   "outputs": [],
   "source": [
    "URL_M = 'https://apitempo.inmet.gov.br/estacoes/M'\n",
    "\n",
    "reponse = requests.get(URL_M)\n",
    "\n",
    "if reponse.status_code == 200:\n",
    "    estacoes_manuais = reponse.json()"
   ]
  },
  {
   "cell_type": "code",
   "execution_count": 14,
   "metadata": {},
   "outputs": [
    {
     "data": {
      "text/plain": [
       "{'CD_OSCAR': '0-2000-0-82989',\n",
       " 'DC_NOME': 'AGUA BRANCA',\n",
       " 'FL_CAPITAL': 'N',\n",
       " 'DT_FIM_OPERACAO': None,\n",
       " 'CD_SITUACAO': 'Operante',\n",
       " 'TP_ESTACAO': 'Convencional',\n",
       " 'VL_LATITUDE': '-9.26472222',\n",
       " 'CD_WSI': '0-76-0-2700102000W82989',\n",
       " 'CD_DISTRITO': ' 03',\n",
       " 'VL_ALTITUDE': '603.42',\n",
       " 'SG_ESTADO': 'AL',\n",
       " 'SG_ENTIDADE': 'INMET',\n",
       " 'CD_ESTACAO': '82989',\n",
       " 'VL_LONGITUDE': '-37.93805555',\n",
       " 'DT_INICIO_OPERACAO': '1928-05-04T21:00:00.000-03:00'}"
      ]
     },
     "execution_count": 14,
     "metadata": {},
     "output_type": "execute_result"
    }
   ],
   "source": [
    "estacoes_manuais[0]"
   ]
  },
  {
   "cell_type": "code",
   "execution_count": 15,
   "metadata": {},
   "outputs": [
    {
     "data": {
      "text/plain": [
       "147"
      ]
     },
     "execution_count": 15,
     "metadata": {},
     "output_type": "execute_result"
    }
   ],
   "source": [
    "len(estacoes_manuais)"
   ]
  },
  {
   "cell_type": "code",
   "execution_count": 16,
   "metadata": {},
   "outputs": [
    {
     "data": {
      "text/html": [
       "<div>\n",
       "<style scoped>\n",
       "    .dataframe tbody tr th:only-of-type {\n",
       "        vertical-align: middle;\n",
       "    }\n",
       "\n",
       "    .dataframe tbody tr th {\n",
       "        vertical-align: top;\n",
       "    }\n",
       "\n",
       "    .dataframe thead th {\n",
       "        text-align: right;\n",
       "    }\n",
       "</style>\n",
       "<table border=\"1\" class=\"dataframe\">\n",
       "  <thead>\n",
       "    <tr style=\"text-align: right;\">\n",
       "      <th></th>\n",
       "      <th>CD_OSCAR</th>\n",
       "      <th>DC_NOME</th>\n",
       "      <th>FL_CAPITAL</th>\n",
       "      <th>DT_FIM_OPERACAO</th>\n",
       "      <th>CD_SITUACAO</th>\n",
       "      <th>TP_ESTACAO</th>\n",
       "      <th>VL_LATITUDE</th>\n",
       "      <th>CD_WSI</th>\n",
       "      <th>CD_DISTRITO</th>\n",
       "      <th>VL_ALTITUDE</th>\n",
       "      <th>SG_ESTADO</th>\n",
       "      <th>SG_ENTIDADE</th>\n",
       "      <th>CD_ESTACAO</th>\n",
       "      <th>VL_LONGITUDE</th>\n",
       "      <th>DT_INICIO_OPERACAO</th>\n",
       "    </tr>\n",
       "  </thead>\n",
       "  <tbody>\n",
       "    <tr>\n",
       "      <th>0</th>\n",
       "      <td>0-2000-0-82989</td>\n",
       "      <td>AGUA BRANCA</td>\n",
       "      <td>N</td>\n",
       "      <td>None</td>\n",
       "      <td>Operante</td>\n",
       "      <td>Convencional</td>\n",
       "      <td>-9.26472222</td>\n",
       "      <td>0-76-0-2700102000W82989</td>\n",
       "      <td>03</td>\n",
       "      <td>603.42</td>\n",
       "      <td>AL</td>\n",
       "      <td>INMET</td>\n",
       "      <td>82989</td>\n",
       "      <td>-37.93805555</td>\n",
       "      <td>1928-05-04T21:00:00.000-03:00</td>\n",
       "    </tr>\n",
       "    <tr>\n",
       "      <th>1</th>\n",
       "      <td>0-2000-0-82353</td>\n",
       "      <td>ALTAMIRA</td>\n",
       "      <td>N</td>\n",
       "      <td>None</td>\n",
       "      <td>Operante</td>\n",
       "      <td>Convencional</td>\n",
       "      <td>-3.21416666</td>\n",
       "      <td>0-76-0-1500602000W82353</td>\n",
       "      <td>02</td>\n",
       "      <td>101.51</td>\n",
       "      <td>PA</td>\n",
       "      <td>INMET</td>\n",
       "      <td>82353</td>\n",
       "      <td>-52.21305555</td>\n",
       "      <td>1927-04-23T21:00:00.000-03:00</td>\n",
       "    </tr>\n",
       "    <tr>\n",
       "      <th>2</th>\n",
       "      <td>0-2000-0-83007</td>\n",
       "      <td>ALTO DA BOA VISTA</td>\n",
       "      <td>N</td>\n",
       "      <td>None</td>\n",
       "      <td>Operante</td>\n",
       "      <td>Convencional</td>\n",
       "      <td>-22.96583333</td>\n",
       "      <td>0-76-0-3304557000W83007</td>\n",
       "      <td>06</td>\n",
       "      <td>347.1</td>\n",
       "      <td>RJ</td>\n",
       "      <td>INMET</td>\n",
       "      <td>83007</td>\n",
       "      <td>-43.27916666</td>\n",
       "      <td>1966-05-31T21:00:00.000-03:00</td>\n",
       "    </tr>\n",
       "    <tr>\n",
       "      <th>3</th>\n",
       "      <td>0-2000-0-82590</td>\n",
       "      <td>APODI</td>\n",
       "      <td>N</td>\n",
       "      <td>None</td>\n",
       "      <td>Operante</td>\n",
       "      <td>Convencional</td>\n",
       "      <td>-5.62666666</td>\n",
       "      <td>0-76-0-2401008000W82590</td>\n",
       "      <td>03</td>\n",
       "      <td>131.37</td>\n",
       "      <td>RN</td>\n",
       "      <td>INMET</td>\n",
       "      <td>82590</td>\n",
       "      <td>-37.815</td>\n",
       "      <td>1962-12-17T21:00:00.000-03:00</td>\n",
       "    </tr>\n",
       "    <tr>\n",
       "      <th>4</th>\n",
       "      <td>0-2000-0-83442</td>\n",
       "      <td>ARACUAI</td>\n",
       "      <td>N</td>\n",
       "      <td>None</td>\n",
       "      <td>Operante</td>\n",
       "      <td>Convencional</td>\n",
       "      <td>-16.84888888</td>\n",
       "      <td>0-76-0-3103405000W83442</td>\n",
       "      <td>05</td>\n",
       "      <td>317.67</td>\n",
       "      <td>MG</td>\n",
       "      <td>INMET</td>\n",
       "      <td>83442</td>\n",
       "      <td>-42.06083333</td>\n",
       "      <td>1918-09-05T21:00:00.000-03:00</td>\n",
       "    </tr>\n",
       "  </tbody>\n",
       "</table>\n",
       "</div>"
      ],
      "text/plain": [
       "         CD_OSCAR            DC_NOME FL_CAPITAL DT_FIM_OPERACAO CD_SITUACAO  \\\n",
       "0  0-2000-0-82989        AGUA BRANCA          N            None    Operante   \n",
       "1  0-2000-0-82353           ALTAMIRA          N            None    Operante   \n",
       "2  0-2000-0-83007  ALTO DA BOA VISTA          N            None    Operante   \n",
       "3  0-2000-0-82590              APODI          N            None    Operante   \n",
       "4  0-2000-0-83442            ARACUAI          N            None    Operante   \n",
       "\n",
       "     TP_ESTACAO   VL_LATITUDE                   CD_WSI CD_DISTRITO  \\\n",
       "0  Convencional   -9.26472222  0-76-0-2700102000W82989          03   \n",
       "1  Convencional   -3.21416666  0-76-0-1500602000W82353          02   \n",
       "2  Convencional  -22.96583333  0-76-0-3304557000W83007          06   \n",
       "3  Convencional   -5.62666666  0-76-0-2401008000W82590          03   \n",
       "4  Convencional  -16.84888888  0-76-0-3103405000W83442          05   \n",
       "\n",
       "  VL_ALTITUDE SG_ESTADO SG_ENTIDADE CD_ESTACAO  VL_LONGITUDE  \\\n",
       "0      603.42        AL       INMET      82989  -37.93805555   \n",
       "1      101.51        PA       INMET      82353  -52.21305555   \n",
       "2       347.1        RJ       INMET      83007  -43.27916666   \n",
       "3      131.37        RN       INMET      82590       -37.815   \n",
       "4      317.67        MG       INMET      83442  -42.06083333   \n",
       "\n",
       "              DT_INICIO_OPERACAO  \n",
       "0  1928-05-04T21:00:00.000-03:00  \n",
       "1  1927-04-23T21:00:00.000-03:00  \n",
       "2  1966-05-31T21:00:00.000-03:00  \n",
       "3  1962-12-17T21:00:00.000-03:00  \n",
       "4  1918-09-05T21:00:00.000-03:00  "
      ]
     },
     "execution_count": 16,
     "metadata": {},
     "output_type": "execute_result"
    }
   ],
   "source": [
    "df_estacoes_manuais = pd.DataFrame(estacoes_manuais)\n",
    "df_estacoes_manuais.head()"
   ]
  },
  {
   "cell_type": "code",
   "execution_count": 17,
   "metadata": {},
   "outputs": [],
   "source": [
    "df_estacoes_manuais.to_csv('../data_raw/estacoes_manuais.csv')"
   ]
  },
  {
   "cell_type": "markdown",
   "metadata": {},
   "source": [
    "### Concatenar os Dataframes e exportar como CSV"
   ]
  },
  {
   "cell_type": "code",
   "execution_count": 23,
   "metadata": {},
   "outputs": [],
   "source": [
    "df = pd.concat([df_estacoes_automaticas, df_estacoes_manuais], ignore_index=True)"
   ]
  },
  {
   "cell_type": "code",
   "execution_count": 27,
   "metadata": {},
   "outputs": [],
   "source": [
    "df.to_csv('../data_raw/estacoes_auto_manual.csv')"
   ]
  },
  {
   "cell_type": "code",
   "execution_count": 26,
   "metadata": {},
   "outputs": [
    {
     "data": {
      "text/plain": [
       "147"
      ]
     },
     "execution_count": 26,
     "metadata": {},
     "output_type": "execute_result"
    }
   ],
   "source": []
  }
 ],
 "metadata": {
  "kernelspec": {
   "display_name": "venv",
   "language": "python",
   "name": "python3"
  },
  "language_info": {
   "codemirror_mode": {
    "name": "ipython",
    "version": 3
   },
   "file_extension": ".py",
   "mimetype": "text/x-python",
   "name": "python",
   "nbconvert_exporter": "python",
   "pygments_lexer": "ipython3",
   "version": "3.8.10"
  }
 },
 "nbformat": 4,
 "nbformat_minor": 2
}
